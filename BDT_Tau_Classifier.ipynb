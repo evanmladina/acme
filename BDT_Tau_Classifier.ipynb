{
 "cells": [
  {
   "cell_type": "markdown",
   "metadata": {},
   "source": [
    "# Conifer Synthesis with GradientBoost BDT on ATLAS Tau Data"
   ]
  },
  {
   "cell_type": "code",
   "execution_count": 1,
   "metadata": {},
   "outputs": [],
   "source": [
    "from sklearn.datasets import fetch_openml\n",
    "from sklearn.ensemble import GradientBoostingClassifier\n",
    "from sklearn.tree import DecisionTreeClassifier\n",
    "from sklearn.model_selection import train_test_split\n",
    "from sklearn.preprocessing import LabelEncoder\n",
    "import sklearn.metrics\n",
    "import conifer\n",
    "import datetime\n",
    "import numpy as np\n",
    "import matplotlib.pyplot as plt\n",
    "import itertools"
   ]
  },
  {
   "cell_type": "markdown",
   "metadata": {},
   "source": [
    "### Fetch jet data"
   ]
  },
  {
   "cell_type": "code",
   "execution_count": 2,
   "metadata": {},
   "outputs": [],
   "source": [
    "data = fetch_openml('hls4ml_lhc_jets_hlf')\n",
    "X, y = data['data'], data['target']"
   ]
  },
  {
   "cell_type": "markdown",
   "metadata": {},
   "source": [
    "### Print out subet of data"
   ]
  },
  {
   "cell_type": "code",
   "execution_count": 3,
   "metadata": {
    "scrolled": true
   },
   "outputs": [
    {
     "name": "stdout",
     "output_type": "stream",
     "text": [
      "['zlogz', 'c1_b0_mmdt', 'c1_b1_mmdt', 'c1_b2_mmdt', 'c2_b1_mmdt', 'c2_b2_mmdt', 'd2_b1_mmdt', 'd2_b2_mmdt', 'd2_a1_b1_mmdt', 'd2_a1_b2_mmdt', 'm2_b1_mmdt', 'm2_b2_mmdt', 'n2_b1_mmdt', 'n2_b2_mmdt', 'mass_mmdt', 'multiplicity']\n",
      "(830000, 16) (830000,)\n",
      "[[-2.93512535e+00  3.83155316e-01  5.12587558e-03  8.42466834e-05\n",
      "   9.06995591e-03  1.78931368e-04  1.76944518e+00  2.12389827e+00\n",
      "   1.76944518e+00  3.08185428e-01  1.35686919e-01  8.32780078e-02\n",
      "   4.12136108e-01  2.99057871e-01  8.92688179e+00  7.50000000e+01]\n",
      " [-1.92733514e+00  2.70698756e-01  1.58540264e-03  1.13709866e-05\n",
      "   3.23237223e-03  2.91449633e-05  2.03883362e+00  2.56309891e+00\n",
      "   2.03883362e+00  2.11886495e-01  6.37285784e-02  3.63104008e-02\n",
      "   3.10216516e-01  2.26661310e-01  3.88651156e+00  3.10000000e+01]\n",
      " [-3.11214662e+00  4.58171129e-01  9.79138538e-02  2.85884105e-02\n",
      "   1.24277540e-01  3.84868123e-02  1.26925385e+00  1.34623826e+00\n",
      "   1.26925385e+00  2.46488109e-01  1.15635969e-01  7.90941268e-02\n",
      "   3.57558519e-01  2.89219588e-01  1.62144669e+02  6.10000000e+01]\n",
      " [-2.66651511e+00  4.37067598e-01  4.91220504e-02  7.97829404e-03\n",
      "   4.74766865e-02  4.80184611e-03  9.66504514e-01  6.01863742e-01\n",
      "   9.66504514e-01  1.60756409e-01  8.21964443e-02  3.33105028e-02\n",
      "   2.38870576e-01  9.45160612e-02  9.12589340e+01  3.90000000e+01]\n",
      " [-2.48484278e+00  4.28981334e-01  4.17859703e-02  6.10950543e-03\n",
      "   2.30659451e-02  1.12305430e-03  5.52002132e-01  1.83820814e-01\n",
      "   5.52002132e-01  8.43379796e-02  4.80063371e-02  1.44504104e-02\n",
      "   1.41905606e-01  3.66654508e-02  7.97257767e+01  3.50000000e+01]]\n",
      "['g' 'w' 't' 'z' 'w']\n"
     ]
    }
   ],
   "source": [
    "print(data['feature_names'])\n",
    "print(X.shape, y.shape)\n",
    "print(X[:5])\n",
    "print(y[:5])"
   ]
  },
  {
   "cell_type": "markdown",
   "metadata": {},
   "source": [
    "### Split data into test/train subsets"
   ]
  },
  {
   "cell_type": "code",
   "execution_count": 4,
   "metadata": {},
   "outputs": [
    {
     "name": "stdout",
     "output_type": "stream",
     "text": [
      "[0 3 2 4 3]\n",
      "['g' 'w' 't' 'z' 'w']\n"
     ]
    }
   ],
   "source": [
    "le = LabelEncoder()\n",
    "y = le.fit_transform(y)\n",
    "X_train_val, X_test, y_train_val, y_test = train_test_split(X, y, test_size=0.2, random_state=42)\n",
    "print(y[:5])\n",
    "print(le.inverse_transform(y[:5]))"
   ]
  },
  {
   "cell_type": "code",
   "execution_count": 5,
   "metadata": {},
   "outputs": [],
   "source": [
    "#scaler = StandardScaler()\n",
    "#X_train_val = scaler.fit_transform(X_train_val)\n",
    "#X_test = scaler.transform(X_test)"
   ]
  },
  {
   "cell_type": "markdown",
   "metadata": {},
   "source": [
    "### Load GradientBoostingClassifier"
   ]
  },
  {
   "cell_type": "code",
   "execution_count": null,
   "metadata": {},
   "outputs": [],
   "source": [
    "with open('GradientBoosted_params5_trees50_depth2.pkl', 'rb') as f:\n",
    "    clf = pickle.load(f)"
   ]
  },
  {
   "cell_type": "markdown",
   "metadata": {},
   "source": [
    "### Determine model accuracy"
   ]
  },
  {
   "cell_type": "code",
   "execution_count": null,
   "metadata": {},
   "outputs": [],
   "source": [
    "from sklearn.metrics import accuracy_score\n",
    "y_predict = clf.predict(X_test)\n",
    "print(\"Accuracy: {}\".format(accuracy_score(y_test, y_predict)))"
   ]
  },
  {
   "cell_type": "markdown",
   "metadata": {},
   "source": [
    "### Determine AUCs and ROC curves"
   ]
  },
  {
   "cell_type": "code",
   "execution_count": null,
   "metadata": {},
   "outputs": [],
   "source": [
    "y_score = clf.decision_function(X_test)\n",
    "fpr = dict()\n",
    "tpr = dict()\n",
    "roc_auc = dict()\n",
    "y_test_bin = sklearn.preprocessing.label_binarize(y_test, classes=le.transform(list(le.classes_)))\n",
    "for i in range(y_test_bin.shape[1]):\n",
    "    fpr[i], tpr[i], _ = sklearn.metrics.roc_curve(y_test_bin[:,i], y_score[:,i])\n",
    "    roc_auc[i] = sklearn.metrics.auc(fpr[i], tpr[i])"
   ]
  },
  {
   "cell_type": "markdown",
   "metadata": {},
   "source": [
    "### Plot ROC Curve"
   ]
  },
  {
   "cell_type": "code",
   "execution_count": null,
   "metadata": {},
   "outputs": [],
   "source": [
    "# Plot all ROC curves\n",
    "plt.figure()\n",
    "\n",
    "lw=2\n",
    "n_classes=len(list(le.classes_))\n",
    "\n",
    "from itertools import cycle\n",
    "colors = cycle(['aqua', 'darkorange', 'cornflowerblue', 'red', 'green'])\n",
    "for i, color in zip(range(n_classes), colors):\n",
    "    plt.plot(fpr[i], tpr[i], color=color, lw=lw,\n",
    "             label= list(le.classes_)[i] + ' tagger (area = {1:0.2f})'\n",
    "             ''.format(i, roc_auc[i]))\n",
    "\n",
    "plt.plot([0, 1], [0, 1], 'k--', lw=lw)\n",
    "plt.xlim([0.0, 1.0])\n",
    "plt.ylim([0.0, 1.05])\n",
    "plt.xlabel('False Positive Rate')\n",
    "plt.ylabel('True Positive Rate')\n",
    "plt.title('ROC Curves for BDT Jet Classifier')\n",
    "plt.legend(loc=\"lower right\")\n",
    "plt.show()"
   ]
  },
  {
   "cell_type": "markdown",
   "metadata": {},
   "source": [
    "### Plot ROC Curve as Signal Efficiency vs Log of Background Efficiency"
   ]
  },
  {
   "cell_type": "code",
   "execution_count": null,
   "metadata": {},
   "outputs": [],
   "source": [
    "# Plot all ROC curves\n",
    "plt.figure()\n",
    "\n",
    "lw=2\n",
    "n_classes=len(list(le.classes_))\n",
    "\n",
    "from itertools import cycle\n",
    "colors = cycle(['aqua', 'darkorange', 'cornflowerblue', 'red', 'green'])\n",
    "for i, color in zip(range(n_classes), colors):\n",
    "    plt.plot(tpr[i], fpr[i], color=color, lw=lw,\n",
    "             label= list(le.classes_)[i] + ' tagger (area = {1:0.2f})'\n",
    "             ''.format(i, roc_auc[i]))\n",
    "\n",
    "plt.semilogy()\n",
    "plt.xlim([0.0, 1.0])\n",
    "plt.ylim([0.0, 1.0])\n",
    "plt.xlabel('Signal Efficiency')\n",
    "plt.ylabel('Background Efficiency')\n",
    "plt.title('ROC Curves for BDT Jet Classifier')\n",
    "plt.legend(loc=\"upper left\")\n",
    "plt.show()"
   ]
  },
  {
   "cell_type": "markdown",
   "metadata": {},
   "source": [
    "### Generate confusion matrix"
   ]
  },
  {
   "cell_type": "code",
   "execution_count": null,
   "metadata": {},
   "outputs": [],
   "source": [
    "cm =sklearn.metrics.confusion_matrix(y_test, y_predict, labels=le.transform(list(le.classes_)))"
   ]
  },
  {
   "cell_type": "code",
   "execution_count": null,
   "metadata": {},
   "outputs": [],
   "source": [
    "# confusion matrix code from Maurizio\n",
    "# /eos/user/m/mpierini/DeepLearning/ML4FPGA/jupyter/HbbTagger_Conv1D.ipynb\n",
    "def plot_confusion_matrix(cm, classes,\n",
    "                          normalize=False, \n",
    "                          title='Confusion matrix',\n",
    "                          cmap=plt.cm.Blues):\n",
    "    \"\"\"\n",
    "    This function prints and plots the confusion matrix.\n",
    "    Normalization can be applied by setting `normalize=True`.\n",
    "    \"\"\"\n",
    "    if normalize:\n",
    "        cm = cm.astype('float') / cm.sum(axis=1)[:, np.newaxis]\n",
    "\n",
    "    plt.imshow(cm, interpolation='nearest', cmap=cmap)\n",
    "    #plt.title(title)\n",
    "    cbar = plt.colorbar()\n",
    "    plt.clim(0,1)\n",
    "    cbar.set_label(title)\n",
    "    tick_marks = np.arange(len(classes))\n",
    "    plt.xticks(tick_marks, classes, rotation=45)\n",
    "    plt.yticks(tick_marks, classes)\n",
    "\n",
    "    fmt = '.2f' if normalize else 'd'\n",
    "    thresh = cm.max() / 2.\n",
    "    for i, j in itertools.product(range(cm.shape[0]), range(cm.shape[1])):\n",
    "        plt.text(j, i, format(cm[i, j], fmt),\n",
    "                 horizontalalignment=\"center\",\n",
    "                 color=\"white\" if cm[i, j] > thresh else \"black\")\n",
    "\n",
    "    #plt.tight_layout()\n",
    "    plt.ylabel('True label')\n",
    "    plt.xlabel('Predicted label')"
   ]
  },
  {
   "cell_type": "code",
   "execution_count": null,
   "metadata": {},
   "outputs": [],
   "source": [
    "plot_confusion_matrix(cm,list(le.classes_), normalize=True)"
   ]
  },
  {
   "cell_type": "markdown",
   "metadata": {},
   "source": [
    "### Perform model synthesis"
   ]
  },
  {
   "cell_type": "code",
   "execution_count": null,
   "metadata": {},
   "outputs": [],
   "source": [
    "# Create a conifer config\n",
    "cfg = conifer.backends.vivadohls.auto_config()\n",
    "# Set the output directory to something unique\n",
    "cfg['OutputDir'] = 'tauTrees/prj_{}'.format(int(datetime.datetime.now().timestamp()))\n",
    "\n",
    "# Create and compile the model\n",
    "model = conifer.model(clf, conifer.converters.sklearn, conifer.backends.vivadohls, cfg)\n",
    "model.compile()\n",
    "\n",
    "# Run HLS C Simulation and get the output\n",
    "y_conif = model.decision_function(X_test)\n",
    "\n",
    "# Synthesize the model\n",
    "model.build()"
   ]
  },
  {
   "cell_type": "markdown",
   "metadata": {},
   "source": [
    "### Generate Resource Reports"
   ]
  },
  {
   "cell_type": "code",
   "execution_count": null,
   "metadata": {},
   "outputs": [],
   "source": [
    "import hls4ml\n",
    "hls4ml.report.read_vivado_report(cfg['OutputDir'])"
   ]
  },
  {
   "cell_type": "markdown",
   "metadata": {},
   "source": [
    "### Generate ROC curve metrics for conifer model"
   ]
  },
  {
   "cell_type": "code",
   "execution_count": null,
   "metadata": {},
   "outputs": [],
   "source": [
    "fpr_conif = dict()\n",
    "tpr_conif = dict()\n",
    "roc_auc_conif = dict()\n",
    "for i in range(y_test_bin.shape[1]):\n",
    "    fpr_conif[i], tpr_conif[i], _ = sklearn.metrics.roc_curve(y_test_bin[:,i], y_conif[:,i])\n",
    "    roc_auc_conif[i] = sklearn.metrics.auc(fpr_conif[i], tpr_conif[i])"
   ]
  },
  {
   "cell_type": "markdown",
   "metadata": {},
   "source": [
    "### Plot ROC curves comparing sklearn model to conifer model"
   ]
  },
  {
   "cell_type": "code",
   "execution_count": null,
   "metadata": {},
   "outputs": [],
   "source": [
    "# Plot all ROC curves\n",
    "plt.figure(figsize=[8,8])\n",
    "\n",
    "lw=2\n",
    "n_classes=len(list(le.classes_))\n",
    "\n",
    "from itertools import cycle\n",
    "colors = cycle(['aqua', 'darkorange', 'cornflowerblue', 'red', 'green'])\n",
    "for i, color in zip(range(n_classes), colors):\n",
    "    plt.plot(tpr[i], fpr[i], color=color, lw=lw,\n",
    "             label= list(le.classes_)[i] + ' tagger (area = {1:0.2f})'\n",
    "             ''.format(i, roc_auc[i]))\n",
    "    plt.plot(tpr_conif[i], fpr_conif[i], '--', color=color, lw=lw,\n",
    "             label= list(le.classes_)[i] + ' tagger conifer (area = {1:0.2f})'\n",
    "             ''.format(i, roc_auc_conif[i]))    \n",
    "\n",
    "plt.semilogy()\n",
    "plt.xlim([0.0, 1.0])\n",
    "plt.ylim([0.0, 1.05])\n",
    "plt.xlabel('Signal Efficiency')\n",
    "plt.ylabel('Background Efficiency')\n",
    "plt.title('ROC Curves for BDT Jet Classifier')\n",
    "plt.legend(loc=\"upper left\")\n",
    "plt.show()"
   ]
  }
 ],
 "metadata": {
  "kernelspec": {
   "display_name": "Python 3",
   "language": "python",
   "name": "python3"
  },
  "language_info": {
   "codemirror_mode": {
    "name": "ipython",
    "version": 3
   },
   "file_extension": ".py",
   "mimetype": "text/x-python",
   "name": "python",
   "nbconvert_exporter": "python",
   "pygments_lexer": "ipython3",
   "version": "3.7.9"
  }
 },
 "nbformat": 4,
 "nbformat_minor": 4
}
