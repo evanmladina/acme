{
 "cells": [
  {
   "cell_type": "code",
   "execution_count": 3,
   "metadata": {},
   "outputs": [],
   "source": [
    "import conifer\n",
    "import datetime\n",
    "import pickle\n",
    "import sklearn\n",
    "import numpy as np\n",
    "import pandas as pd\n",
    "import matplotlib.pyplot as plt\n",
    "from sklearn.preprocessing import StandardScaler\n",
    "from sklearn.ensemble import GradientBoostingClassifier\n",
    "\n",
    "def open_model(filename):\n",
    "    \"\"\" Returns sklearn stored in pickle file.\"\"\"\n",
    "    with open(filename, 'rb') as f:\n",
    "        return pickle.load(f)\n",
    "\n",
    "def synth_model(model, bit_width='ap_fixed<18,8>'):\n",
    "    \"\"\" Return conifer model given scikit model \"\"\"\n",
    "    # Create a conifer config\n",
    "    cfg = conifer.backends.vivadohls.auto_config()\n",
    "\n",
    "    # Set the output directory to something unique\n",
    "    cfg['OutputDir'] = 'prj_{}'.format(int(datetime.datetime.now().timestamp()))\n",
    "    cfg['XilinxPart'] = 'xc7vx690tffg1761-2'\n",
    "    cfg['Precision'] = bit_width\n",
    "    \n",
    "    # Create and compile the model\n",
    "    conif_model = conifer.model(model, conifer.converters.sklearn, conifer.backends.vhdl, cfg)\n",
    "    conif_model.compile()\n",
    "     \n",
    "    # Synthesize the model\n",
    "    conif_model.build()\n",
    "\n",
    "    return conif_model\n",
    "\n",
    "def load_params_used(filename):\n",
    "    with open(filename, \"r\") as f:\n",
    "        return f.read().split()\n",
    "\n",
    "def load_data(sig_filename, bg_filename, features):\n",
    "    \"\"\" Returns datafram, X, Y for data stored in csv file\"\"\"\n",
    "    \n",
    "    sig_df = pd.read_csv(sig_filename)[features]\n",
    "    bg_df = pd.read_csv(bg_filename)[features]\n",
    "    \n",
    "    sig_df[\"signal\"] = 1\n",
    "    bg_df[\"signal\"] = 0\n",
    "    \n",
    "    df  = pd.concat([sig_df, bg_df], ignore_index=True)\n",
    "    \n",
    "    X = df.to_numpy()[:, :-1]\n",
    "    Y = df.to_numpy()[:, -1][np.newaxis].transpose()\n",
    "    \n",
    "    return df, X, Y\n",
    "\n",
    "def split_data(X, Y, test_percent=0.1):\n",
    "    \"\"\" Returns X_train, Y_train, X_test, Y_test \"\"\"\n",
    "    total = np.concatenate((X, Y), axis=1)\n",
    "    np.random.shuffle(total)\n",
    "    n_X = (int) ((1 - test_percent) * total.shape[0])\n",
    "    \n",
    "    X_train = total[:n_X, :-1]\n",
    "    X_test = total[n_X:, :-1]\n",
    "    \n",
    "    Y_train = total[:n_X, -1][np.newaxis].transpose()\n",
    "    Y_test = total[n_X:, -1][np.newaxis].transpose()\n",
    "    \n",
    "    return X_train, Y_train, X_test, Y_test\n",
    "\n",
    "def get_stats(model, X, Y):\n",
    "    \"\"\" \n",
    "    Returns false positive rates, true positive rates, \n",
    "    and area under curve for given model. \n",
    "    \"\"\"\n",
    "    Y_pred = model.decision_function(X)\n",
    "    fpr, tpr, _ = sklearn.metrics.roc_curve(Y, Y_pred)\n",
    "    auc = sklearn.metrics.auc(fpr, tpr) \n",
    "    return dict(zip([\"fpr\", \"tpr\", \"auc\"], [fpr, tpr, auc]))\n",
    "\n",
    "def make_plot(\n",
    "    results, \n",
    "    colors=['aqua', 'darkorange', 'cornflowerblue', 'red', 'green'],\n",
    "    linewidth=2,\n",
    "    plots_folder='plot.png'\n",
    "    ):\n",
    "    \"\"\"\n",
    "    Results is a dictionary where the key is the name of the model and the value is a\n",
    "    dictionary with the keys fpr, tpr, auc. Plots these results with pretty colors.\n",
    "    \"\"\"\n",
    "    plt.figure()\n",
    " \n",
    "    c = 0\n",
    "    for name, stats in results.items():\n",
    "        plt.plot(stats[\"fpr\"], stats[\"tpr\"], color=colors[c], \n",
    "            lw=linewidth, label=f\"{name} (area = {stats['auc']})\")\n",
    "        c = (c + 1) % len(colors)\n",
    " \n",
    "    #plt.semilogy()\n",
    "    plt.xlim([0.0, 1.0])\n",
    "    #plt.ylim([1e-3, 1.0])\n",
    "    plt.ylim([0.0, 1.0])\n",
    "    plt.xlabel('Signal Efficiency')\n",
    "    plt.ylabel('Background Efficiency')\n",
    "    plt.title('ROC Curves for BDT Tau Lepton Classifier')\n",
    "    plt.legend(loc=\"upper left\")\n",
    "    plt.savefig(plots_folder, bbox_inches='tight')\n",
    "    plt.show()\n",
    "    \n",
    "### int_bit determined by max tree threshold determined\n",
    "### by running conif_model.profile()\n",
    "def get_auc_ratios(grad_model, X_test, Y_test, int_bit, end_bit):\n",
    "    sklearn_stats = get_stats(grad_model, X_test, Y_test) \n",
    "\n",
    "    bit_widths = []\n",
    "    auc_ratios = []\n",
    "    aucs = []\n",
    "\n",
    "    for i in range(int_bit, end_bit):\n",
    "        bw = '<{},{}>'.format(i, int_bit)\n",
    "        bit_widths.append(bw)\n",
    "        conif_model = synth_model(grad_model, 'ap_fixed' + bw)\n",
    "        conif_stats = get_stats(conif_model, X_test, Y_test)\n",
    "        auc_ratios.append(conif_stats[\"auc\"]/sklearn_stats[\"auc\"])\n",
    "        aucs.append(conif_stats[\"auc\"])\n",
    "        \n",
    "    return bit_widths, auc_ratios, aucs\n",
    "\n",
    "def plot_auc_ratios(auc_ratios, bit_widths):\n",
    "    plt.scatter(bit_widths, auc_ratios)\n",
    "    plt.title('Conifer Model Bit Width Profile')\n",
    "    plt.xlabel('Fixed Point Bit Width <Total Bit Width, Integer Width>')\n",
    "    plt.ylabel('Conifer AUC/Sklearn AUC')\n",
    "    plt.xticks(rotation=45)\n",
    "\n",
    "def load_split_data(data=\"./ScaledData\"):\n",
    "    res = []\n",
    "    for i in (\"X_train\", \"Y_train\", \"X_test\", \"Y_test\"):\n",
    "        res.append(np.load(f\"{data}/{i}.npy\"))\n",
    "    return res[0], res[1], res[2], res[3]"
   ]
  },
  {
   "cell_type": "markdown",
   "metadata": {},
   "source": [
    "### Load the scaled model and scaled data"
   ]
  },
  {
   "cell_type": "code",
   "execution_count": 7,
   "metadata": {},
   "outputs": [],
   "source": [
    "X_train, Y_train, X_test, Y_test = load_split_data()\n",
    "\n",
    "grad_model = open_model('scaled_100_4_model.pkl')"
   ]
  },
  {
   "cell_type": "markdown",
   "metadata": {},
   "source": [
    "### Determine AUC ratios for Sklearn model and Conifer Models of various bitwidths"
   ]
  },
  {
   "cell_type": "code",
   "execution_count": 9,
   "metadata": {},
   "outputs": [],
   "source": [
    "## change int_bit=10 argument to the best value as determined by \n",
    "## running .profile() on a conifer model (the lower the better).\n",
    "bit_widths, auc_ratios, aucs = get_auc_ratios(grad_model, X_test, Y_test, 10, 20)"
   ]
  },
  {
   "cell_type": "markdown",
   "metadata": {},
   "source": [
    "### Plot the Ratios"
   ]
  },
  {
   "cell_type": "code",
   "execution_count": 10,
   "metadata": {},
   "outputs": [
    {
     "data": {
      "image/png": "[encoded data removed]",
      "text/plain": [
       "<Figure size 432x288 with 1 Axes>"
      ]
     },
     "metadata": {
      "needs_background": "light"
     },
     "output_type": "display_data"
    }
   ],
   "source": [
    "plot_auc_ratios(auc_ratios, bit_widths)"
   ]
  }
 ],
 "metadata": {
  "kernelspec": {
   "display_name": "Python 3",
   "language": "python",
   "name": "python3"
  },
  "language_info": {
   "codemirror_mode": {
    "name": "ipython",
    "version": 3
   },
   "file_extension": ".py",
   "mimetype": "text/x-python",
   "name": "python",
   "nbconvert_exporter": "python",
   "pygments_lexer": "ipython3",
   "version": "3.7.9"
  }
 },
 "nbformat": 4,
 "nbformat_minor": 4
}
