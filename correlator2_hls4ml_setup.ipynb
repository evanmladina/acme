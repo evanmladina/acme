{
 "cells": [
  {
   "cell_type": "markdown",
   "metadata": {},
   "source": [
    "# Obtaining Access to Fermilab Computer for hls4ml-tutorial"
   ]
  },
  {
   "cell_type": "markdown",
   "metadata": {},
   "source": [
    "### To obtain a CMS LPC analysis cluster computing account, proceed to the following web page:\n",
    "\n",
    "https://uscms.org/uscms_at_work/physics/computing/getstarted/getaccount_fermilab.shtml'\n",
    "\n",
    "Follow the instructions to gain remote access only. When filling out the access form, be sure to put the following into these three fields:\n",
    "\n",
    "###### Experiment: CMS\n",
    "###### Fermilab contact name: Nhan Tran\n",
    "###### Institution point of contact name: Shih-Chieh Hsu\n",
    "\n",
    "Once you have filled out the form, contact Nhan Tran and ask him to give you access to his lab's firmware computer, correlator2. This computer has Vivado and Modelsim installed and can run the `hls4ml-tutorial` without issue.\n",
    "\n",
    "Once you have received your computing account, you will be given instructions on setting up Kerberos on the machine which you will be using to ssh into the Fermilab network. You will also likely have to contact Fermilab's IT department to get your initial password."
   ]
  },
  {
   "cell_type": "markdown",
   "metadata": {},
   "source": [
    "### Once you have access to `correlator2`, you will have to do the following:\n",
    "\n",
    "To get the path to Vivado properly set, run `source /home/ntran/setup_vivado.sh`. This will have to be done everytime you ssh into correlator2. If you do not wish to run this ever time, add this to you `.bashrc` file.\n",
    "\n",
    "You will also have to install Miniconda. You can do that via command line on correlator2, or you can do it with `scp` by transferring the Minicoda installer that you downloaded locally onto correlator2.\n",
    "\n",
    "Here is a link to downloading via command line to correlator2:\n",
    "https://dev.to/waylonwalker/installing-miniconda-on-linux-from-the-command-line-4ad7\n",
    "\n",
    "If you downloaded the installer locally you can transfer it to correlator2 by running:\n",
    "`scp /path/to/miniconda/installer username@correlator2.fnal.gov:/path/to/target/directory/.`\n",
    " With `username` replaced with your correlator2 username.\n",
    "\n",
    "Once the installer is on correlator2, run the following:\n",
    "`bash Miniconda3-latest-Linux-x86_64.sh`"
   ]
  },
  {
   "cell_type": "markdown",
   "metadata": {},
   "source": [
    "### Accessing the jupyter notebooks in your local browser\n",
    "\n",
    "As you will be running the jupyter notebooks from correlator2, they will not be accessible to you unless you `ssh` with port forwarding. \n",
    "\n",
    "In order to do so, run the following:\n",
    "\n",
    "`ssh -L localhost:8888:localhost:8888 username@correlator2.fnal.gov`\n",
    "\n",
    "This forwards the port `8888` from correlator2 to your local machine. You can replace it with another port number if that one is busy.\n",
    "\n",
    "Next, when you fire up the jupyter notebook, as opposed to simply running `jupyter notebook` from the `hls4ml-tutorial` folder, run:\n",
    "`jupyter notebook --no-browser --port=8888`, with `8888` replaced with whatever port you have used."
   ]
  },
  {
   "cell_type": "code",
   "execution_count": null,
   "metadata": {},
   "outputs": [],
   "source": []
  }
 ],
 "metadata": {
  "kernelspec": {
   "display_name": "Python 3",
   "language": "python",
   "name": "python3"
  },
  "language_info": {
   "codemirror_mode": {
    "name": "ipython",
    "version": 3
   },
   "file_extension": ".py",
   "mimetype": "text/x-python",
   "name": "python",
   "nbconvert_exporter": "python",
   "pygments_lexer": "ipython3",
   "version": "3.8.5"
  }
 },
 "nbformat": 4,
 "nbformat_minor": 4
}
